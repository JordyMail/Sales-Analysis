{
 "cells": [
  {
   "cell_type": "code",
   "execution_count": null,
   "id": "4099020a-028a-40e5-b8c6-639d34ddd93f",
   "metadata": {},
   "outputs": [],
   "source": []
  }
 ],
 "metadata": {
  "kernelspec": {
   "display_name": "",
   "name": ""
  },
  "language_info": {
   "name": ""
  }
 },
 "nbformat": 4,
 "nbformat_minor": 5
}
